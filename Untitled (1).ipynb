{
 "cells": [
  {
   "cell_type": "code",
   "execution_count": 1,
   "id": "ee7535ea-ce6d-4f75-b82f-563ff52451b8",
   "metadata": {},
   "outputs": [],
   "source": [
    "import numpy as np\n",
    "import pandas as pd\n",
    "import matplotlib.pyplot as plt\n",
    "%matplotlib inline\n",
    "import seaborn as sns\n",
    "import warnings\n",
    "warnings.filterwarnings('ignore')"
   ]
  },
  {
   "cell_type": "code",
   "execution_count": 2,
   "id": "220b2ff1-6120-43ba-a7af-746e44bd0739",
   "metadata": {},
   "outputs": [
    {
     "data": {
      "text/html": [
       "<div>\n",
       "<style scoped>\n",
       "    .dataframe tbody tr th:only-of-type {\n",
       "        vertical-align: middle;\n",
       "    }\n",
       "\n",
       "    .dataframe tbody tr th {\n",
       "        vertical-align: top;\n",
       "    }\n",
       "\n",
       "    .dataframe thead th {\n",
       "        text-align: right;\n",
       "    }\n",
       "</style>\n",
       "<table border=\"1\" class=\"dataframe\">\n",
       "  <thead>\n",
       "    <tr style=\"text-align: right;\">\n",
       "      <th></th>\n",
       "      <th>sequence</th>\n",
       "      <th>class</th>\n",
       "    </tr>\n",
       "  </thead>\n",
       "  <tbody>\n",
       "    <tr>\n",
       "      <th>0</th>\n",
       "      <td>ATGCCCCAACTAAATACTACCGTATGGCCCACCATAATTACCCCCA...</td>\n",
       "      <td>4</td>\n",
       "    </tr>\n",
       "    <tr>\n",
       "      <th>1</th>\n",
       "      <td>ATGAACGAAAATCTGTTCGCTTCATTCATTGCCCCCACAATCCTAG...</td>\n",
       "      <td>4</td>\n",
       "    </tr>\n",
       "    <tr>\n",
       "      <th>2</th>\n",
       "      <td>ATGTGTGGCATTTGGGCGCTGTTTGGCAGTGATGATTGCCTTTCTG...</td>\n",
       "      <td>3</td>\n",
       "    </tr>\n",
       "    <tr>\n",
       "      <th>3</th>\n",
       "      <td>ATGTGTGGCATTTGGGCGCTGTTTGGCAGTGATGATTGCCTTTCTG...</td>\n",
       "      <td>3</td>\n",
       "    </tr>\n",
       "    <tr>\n",
       "      <th>4</th>\n",
       "      <td>ATGCAACAGCATTTTGAATTTGAATACCAGACCAAAGTGGATGGTG...</td>\n",
       "      <td>3</td>\n",
       "    </tr>\n",
       "  </tbody>\n",
       "</table>\n",
       "</div>"
      ],
      "text/plain": [
       "                                            sequence  class\n",
       "0  ATGCCCCAACTAAATACTACCGTATGGCCCACCATAATTACCCCCA...      4\n",
       "1  ATGAACGAAAATCTGTTCGCTTCATTCATTGCCCCCACAATCCTAG...      4\n",
       "2  ATGTGTGGCATTTGGGCGCTGTTTGGCAGTGATGATTGCCTTTCTG...      3\n",
       "3  ATGTGTGGCATTTGGGCGCTGTTTGGCAGTGATGATTGCCTTTCTG...      3\n",
       "4  ATGCAACAGCATTTTGAATTTGAATACCAGACCAAAGTGGATGGTG...      3"
      ]
     },
     "execution_count": 2,
     "metadata": {},
     "output_type": "execute_result"
    }
   ],
   "source": [
    "human_data = pd.read_table('human.txt')\n",
    "human_data.head()"
   ]
  },
  {
   "cell_type": "code",
   "execution_count": 3,
   "id": "d30b2222-0fdc-4ae2-be58-c3b402e1642f",
   "metadata": {},
   "outputs": [
    {
     "data": {
      "text/html": [
       "<div>\n",
       "<style scoped>\n",
       "    .dataframe tbody tr th:only-of-type {\n",
       "        vertical-align: middle;\n",
       "    }\n",
       "\n",
       "    .dataframe tbody tr th {\n",
       "        vertical-align: top;\n",
       "    }\n",
       "\n",
       "    .dataframe thead th {\n",
       "        text-align: right;\n",
       "    }\n",
       "</style>\n",
       "<table border=\"1\" class=\"dataframe\">\n",
       "  <thead>\n",
       "    <tr style=\"text-align: right;\">\n",
       "      <th></th>\n",
       "      <th>sequence</th>\n",
       "      <th>class</th>\n",
       "    </tr>\n",
       "  </thead>\n",
       "  <tbody>\n",
       "    <tr>\n",
       "      <th>4375</th>\n",
       "      <td>ATGGAAGATTTGGAGGAAACATTATTTGAAGAATTTGAAAACTATT...</td>\n",
       "      <td>0</td>\n",
       "    </tr>\n",
       "    <tr>\n",
       "      <th>4376</th>\n",
       "      <td>ATGCAGTCCTTTCGGGAGCAAAGCAGTTACCACGGAAACCAGCAAA...</td>\n",
       "      <td>6</td>\n",
       "    </tr>\n",
       "    <tr>\n",
       "      <th>4377</th>\n",
       "      <td>ATGCAGTCCTTTCGGGAGCAAAGCAGTTACCACGGAAACCAGCAAA...</td>\n",
       "      <td>6</td>\n",
       "    </tr>\n",
       "    <tr>\n",
       "      <th>4378</th>\n",
       "      <td>ATGGGGCACCTGGTTTGCTGTCTGTGTGGCAAGTGGGCCAGTTACC...</td>\n",
       "      <td>6</td>\n",
       "    </tr>\n",
       "    <tr>\n",
       "      <th>4379</th>\n",
       "      <td>ATGCAGTCCTTTCGGGAGCAAAGCAGTTACCACGGAAACCAGCAAA...</td>\n",
       "      <td>6</td>\n",
       "    </tr>\n",
       "  </tbody>\n",
       "</table>\n",
       "</div>"
      ],
      "text/plain": [
       "                                               sequence  class\n",
       "4375  ATGGAAGATTTGGAGGAAACATTATTTGAAGAATTTGAAAACTATT...      0\n",
       "4376  ATGCAGTCCTTTCGGGAGCAAAGCAGTTACCACGGAAACCAGCAAA...      6\n",
       "4377  ATGCAGTCCTTTCGGGAGCAAAGCAGTTACCACGGAAACCAGCAAA...      6\n",
       "4378  ATGGGGCACCTGGTTTGCTGTCTGTGTGGCAAGTGGGCCAGTTACC...      6\n",
       "4379  ATGCAGTCCTTTCGGGAGCAAAGCAGTTACCACGGAAACCAGCAAA...      6"
      ]
     },
     "execution_count": 3,
     "metadata": {},
     "output_type": "execute_result"
    }
   ],
   "source": [
    "human_data.tail()"
   ]
  },
  {
   "cell_type": "code",
   "execution_count": 4,
   "id": "4e831433-2524-438e-890d-a087ed336502",
   "metadata": {},
   "outputs": [
    {
     "data": {
      "text/plain": [
       "(4380, 2)"
      ]
     },
     "execution_count": 4,
     "metadata": {},
     "output_type": "execute_result"
    }
   ],
   "source": [
    "human_data.shape"
   ]
  },
  {
   "cell_type": "code",
   "execution_count": 5,
   "id": "5d758c02-ba6b-4ec9-929a-1a008b1f1c50",
   "metadata": {},
   "outputs": [
    {
     "data": {
      "text/html": [
       "<div>\n",
       "<style scoped>\n",
       "    .dataframe tbody tr th:only-of-type {\n",
       "        vertical-align: middle;\n",
       "    }\n",
       "\n",
       "    .dataframe tbody tr th {\n",
       "        vertical-align: top;\n",
       "    }\n",
       "\n",
       "    .dataframe thead th {\n",
       "        text-align: right;\n",
       "    }\n",
       "</style>\n",
       "<table border=\"1\" class=\"dataframe\">\n",
       "  <thead>\n",
       "    <tr style=\"text-align: right;\">\n",
       "      <th></th>\n",
       "      <th>class</th>\n",
       "    </tr>\n",
       "  </thead>\n",
       "  <tbody>\n",
       "    <tr>\n",
       "      <th>count</th>\n",
       "      <td>4380.000000</td>\n",
       "    </tr>\n",
       "    <tr>\n",
       "      <th>mean</th>\n",
       "      <td>3.504566</td>\n",
       "    </tr>\n",
       "    <tr>\n",
       "      <th>std</th>\n",
       "      <td>2.132134</td>\n",
       "    </tr>\n",
       "    <tr>\n",
       "      <th>min</th>\n",
       "      <td>0.000000</td>\n",
       "    </tr>\n",
       "    <tr>\n",
       "      <th>25%</th>\n",
       "      <td>2.000000</td>\n",
       "    </tr>\n",
       "    <tr>\n",
       "      <th>50%</th>\n",
       "      <td>4.000000</td>\n",
       "    </tr>\n",
       "    <tr>\n",
       "      <th>75%</th>\n",
       "      <td>6.000000</td>\n",
       "    </tr>\n",
       "    <tr>\n",
       "      <th>max</th>\n",
       "      <td>6.000000</td>\n",
       "    </tr>\n",
       "  </tbody>\n",
       "</table>\n",
       "</div>"
      ],
      "text/plain": [
       "             class\n",
       "count  4380.000000\n",
       "mean      3.504566\n",
       "std       2.132134\n",
       "min       0.000000\n",
       "25%       2.000000\n",
       "50%       4.000000\n",
       "75%       6.000000\n",
       "max       6.000000"
      ]
     },
     "execution_count": 5,
     "metadata": {},
     "output_type": "execute_result"
    }
   ],
   "source": [
    "human_data.describe()"
   ]
  },
  {
   "cell_type": "code",
   "execution_count": 6,
   "id": "f05faa13-c401-4696-9359-36b5b5075cfd",
   "metadata": {},
   "outputs": [
    {
     "data": {
      "text/html": [
       "<div>\n",
       "<style scoped>\n",
       "    .dataframe tbody tr th:only-of-type {\n",
       "        vertical-align: middle;\n",
       "    }\n",
       "\n",
       "    .dataframe tbody tr th {\n",
       "        vertical-align: top;\n",
       "    }\n",
       "\n",
       "    .dataframe thead th {\n",
       "        text-align: right;\n",
       "    }\n",
       "</style>\n",
       "<table border=\"1\" class=\"dataframe\">\n",
       "  <thead>\n",
       "    <tr style=\"text-align: right;\">\n",
       "      <th></th>\n",
       "      <th>sequence</th>\n",
       "    </tr>\n",
       "  </thead>\n",
       "  <tbody>\n",
       "    <tr>\n",
       "      <th>count</th>\n",
       "      <td>4380</td>\n",
       "    </tr>\n",
       "    <tr>\n",
       "      <th>unique</th>\n",
       "      <td>3629</td>\n",
       "    </tr>\n",
       "    <tr>\n",
       "      <th>top</th>\n",
       "      <td>ATGGGACCAGAGGCCCTGTCATCTTTACTGCTGCTGCTCTTGGTGG...</td>\n",
       "    </tr>\n",
       "    <tr>\n",
       "      <th>freq</th>\n",
       "      <td>11</td>\n",
       "    </tr>\n",
       "  </tbody>\n",
       "</table>\n",
       "</div>"
      ],
      "text/plain": [
       "                                                 sequence\n",
       "count                                                4380\n",
       "unique                                               3629\n",
       "top     ATGGGACCAGAGGCCCTGTCATCTTTACTGCTGCTGCTCTTGGTGG...\n",
       "freq                                                   11"
      ]
     },
     "execution_count": 6,
     "metadata": {},
     "output_type": "execute_result"
    }
   ],
   "source": [
    "human_data.describe(include='object')"
   ]
  },
  {
   "cell_type": "code",
   "execution_count": 7,
   "id": "f84851d2-b2c2-49f9-8684-32cad5c70b54",
   "metadata": {},
   "outputs": [
    {
     "name": "stdout",
     "output_type": "stream",
     "text": [
      "<class 'pandas.core.frame.DataFrame'>\n",
      "RangeIndex: 4380 entries, 0 to 4379\n",
      "Data columns (total 2 columns):\n",
      " #   Column    Non-Null Count  Dtype \n",
      "---  ------    --------------  ----- \n",
      " 0   sequence  4380 non-null   object\n",
      " 1   class     4380 non-null   int64 \n",
      "dtypes: int64(1), object(1)\n",
      "memory usage: 68.6+ KB\n"
     ]
    }
   ],
   "source": [
    "human_data.info()"
   ]
  },
  {
   "cell_type": "code",
   "execution_count": 8,
   "id": "b744cec1-b095-44df-ae76-6b2b40a934e4",
   "metadata": {},
   "outputs": [
    {
     "data": {
      "text/plain": [
       "array([4, 3, 5, 2, 6, 0, 1], dtype=int64)"
      ]
     },
     "execution_count": 8,
     "metadata": {},
     "output_type": "execute_result"
    }
   ],
   "source": [
    "human_data['class'].unique()"
   ]
  },
  {
   "cell_type": "code",
   "execution_count": 9,
   "id": "c9749a09-7239-4bdc-bef2-4079bf86418f",
   "metadata": {},
   "outputs": [],
   "source": [
    "def getKmers(sequence , size = 6):\n",
    "    return [sequence[x:x+size].lower() for x in range(len(sequence) - size + 1)]"
   ]
  },
  {
   "cell_type": "code",
   "execution_count": 10,
   "id": "21a0c992-963a-424b-83a3-158906db5819",
   "metadata": {},
   "outputs": [],
   "source": [
    "human_data['words'] = human_data.apply(lambda x : getKmers(x['sequence']) , axis = 1)\n",
    "human_data = human_data.drop('sequence' , axis = 1)"
   ]
  },
  {
   "cell_type": "code",
   "execution_count": 11,
   "id": "3b354474-34ca-462a-bedb-8eb50d718f5d",
   "metadata": {},
   "outputs": [
    {
     "data": {
      "text/html": [
       "<div>\n",
       "<style scoped>\n",
       "    .dataframe tbody tr th:only-of-type {\n",
       "        vertical-align: middle;\n",
       "    }\n",
       "\n",
       "    .dataframe tbody tr th {\n",
       "        vertical-align: top;\n",
       "    }\n",
       "\n",
       "    .dataframe thead th {\n",
       "        text-align: right;\n",
       "    }\n",
       "</style>\n",
       "<table border=\"1\" class=\"dataframe\">\n",
       "  <thead>\n",
       "    <tr style=\"text-align: right;\">\n",
       "      <th></th>\n",
       "      <th>class</th>\n",
       "      <th>words</th>\n",
       "    </tr>\n",
       "  </thead>\n",
       "  <tbody>\n",
       "    <tr>\n",
       "      <th>0</th>\n",
       "      <td>4</td>\n",
       "      <td>[atgccc, tgcccc, gcccca, ccccaa, cccaac, ccaac...</td>\n",
       "    </tr>\n",
       "    <tr>\n",
       "      <th>1</th>\n",
       "      <td>4</td>\n",
       "      <td>[atgaac, tgaacg, gaacga, aacgaa, acgaaa, cgaaa...</td>\n",
       "    </tr>\n",
       "    <tr>\n",
       "      <th>2</th>\n",
       "      <td>3</td>\n",
       "      <td>[atgtgt, tgtgtg, gtgtgg, tgtggc, gtggca, tggca...</td>\n",
       "    </tr>\n",
       "    <tr>\n",
       "      <th>3</th>\n",
       "      <td>3</td>\n",
       "      <td>[atgtgt, tgtgtg, gtgtgg, tgtggc, gtggca, tggca...</td>\n",
       "    </tr>\n",
       "    <tr>\n",
       "      <th>4</th>\n",
       "      <td>3</td>\n",
       "      <td>[atgcaa, tgcaac, gcaaca, caacag, aacagc, acagc...</td>\n",
       "    </tr>\n",
       "  </tbody>\n",
       "</table>\n",
       "</div>"
      ],
      "text/plain": [
       "   class                                              words\n",
       "0      4  [atgccc, tgcccc, gcccca, ccccaa, cccaac, ccaac...\n",
       "1      4  [atgaac, tgaacg, gaacga, aacgaa, acgaaa, cgaaa...\n",
       "2      3  [atgtgt, tgtgtg, gtgtgg, tgtggc, gtggca, tggca...\n",
       "3      3  [atgtgt, tgtgtg, gtgtgg, tgtggc, gtggca, tggca...\n",
       "4      3  [atgcaa, tgcaac, gcaaca, caacag, aacagc, acagc..."
      ]
     },
     "execution_count": 11,
     "metadata": {},
     "output_type": "execute_result"
    }
   ],
   "source": [
    "human_data.head()"
   ]
  },
  {
   "cell_type": "code",
   "execution_count": 12,
   "id": "26e2cc08-9d12-4d65-86a9-4a51af3bcd25",
   "metadata": {},
   "outputs": [],
   "source": [
    "human_texts = list(human_data['words'])\n",
    "for item in range(len(human_texts)):\n",
    "    human_texts[item] = ' '.join(human_texts[item])\n",
    "y_data = human_data.iloc[: , 0].values"
   ]
  },
  {
   "cell_type": "code",
   "execution_count": 13,
   "id": "9d9c62c0-03e4-42c5-a7ad-23462c2b8c63",
   "metadata": {},
   "outputs": [
    {
     "name": "stdout",
     "output_type": "stream",
     "text": [
      "atgtgt tgtgtg gtgtgg tgtggc gtggca tggcat ggcatt gcattt catttg atttgg tttggg ttgggc tgggcg gggcgc ggcgct gcgctg cgctgt gctgtt ctgttt tgtttg gtttgg tttggc ttggca tggcag ggcagt gcagtg cagtga agtgat gtgatg tgatga gatgat atgatt tgattg gattgc attgcc ttgcct tgcctt gccttt cctttc ctttct tttctg ttctgt tctgtt ctgttc tgttca gttcag ttcagt tcagtg cagtgt agtgtc gtgtct tgtctg gtctga tctgag ctgagt tgagtg gagtgc agtgct gtgcta tgctat gctatg ctatga tatgaa atgaag tgaaga gaagat aagatt agattg gattgc attgca ttgcac tgcaca gcacac cacaca acacag cacaga acagag cagagg agaggt gaggtc aggtcc ggtcca gtccag tccaga ccagat cagatg agatgc gatgca atgcat tgcatt gcattc cattcc attccg ttccgt tccgtt ccgttt cgtttt gttttg ttttga tttgag ttgaga tgagaa gagaat agaatg gaatgt aatgtc atgtca tgtcaa gtcaat tcaatg caatgg aatgga atggat tggata ggatac gataca atacac tacacc acacca caccaa accaac ccaact caactg aactgc actgct ctgctg tgctgc gctgct ctgctt tgcttt gctttg ctttgg tttgga ttggat tggatt ggattt gatttc atttca tttcac ttcacc tcaccg caccgg accggt ccggtt cggttg ggttgg gttggc ttggcg tggcgg ggcggt gcggta cggtag ggtagt gtagtt tagttg agttga gttgac ttgacc tgaccc gacccg acccgc cccgct ccgctg cgctgt gctgtt ctgttt tgtttg gtttgg tttgga ttggaa tggaat ggaatg gaatgc aatgca atgcag tgcagc gcagcc cagcca agccaa gccaat ccaatt caattc aattcg attcga ttcgag tcgagt cgagtg gagtga agtgaa gtgaag tgaaga gaagaa aagaaa agaaat gaaata aaatat aatatc atatcc tatccg atccgt tccgta ccgtat cgtatt gtattt tatttg atttgt tttgtg ttgtgg tgtggc gtggct tggctc ggctct gctctg ctctgt tctgtt ctgtta tgttac gttaca ttacaa tacaat acaatg caatgg aatggt atggtg tggtga ggtgaa gtgaaa tgaaat gaaatc aaatct aatcta atctac tctaca ctacaa tacaac acaacc caacca aaccat accata ccataa cataag ataaga taagaa aagaag agaaga gaagat aagatg agatgc gatgca atgcaa tgcaac gcaaca caacag aacagc acagca cagcat agcatt gcattt catttt attttg ttttga tttgaa ttgaat tgaatt gaattt aatttg atttga tttgaa ttgaat tgaata gaatac aatacc atacca taccag accaga ccagac cagacc agacca gaccaa accaaa ccaaag caaagt aaagtg aagtgg agtgga gtggat tggatg ggatgg gatggt atggtg tggtga ggtgag gtgaga tgagat gagata agataa gataat ataatc taatcc aatcct atcctt tccttc ccttca cttcat ttcatc tcatct catctt atcttt tcttta ctttat tttatg ttatga tatgac atgaca tgacaa gacaaa acaaag caaagg aaagga aaggag aggagg ggagga gaggaa aggaat ggaatt gaattg aattga attgag ttgagc tgagca gagcaa agcaaa gcaaac caaaca aaacaa aacaat acaatt caattt aatttg atttgt tttgta ttgtat tgtatg gtatgt tatgtt atgttg tgttgg gttgga ttggat tggatg ggatgg gatggt atggtg tggtgt ggtgtg gtgtgt tgtgtt gtgttt tgtttg gtttgc tttgca ttgcat tgcatt gcattt catttg atttgt tttgtt ttgttt tgtttt gtttta ttttac tttact ttactg tactgg actgga ctggat tggata ggatac gatact atactg tactgc actgcc ctgcca tgccaa gccaat ccaata caataa aataag ataaga taagaa aagaaa agaaag gaaagt aaagtg aagtgt agtgtt gtgttc tgttcc gttcct ttcctg tcctgg cctggg ctgggt tgggta gggtag ggtaga gtagag tagaga agagat gagata agatac gataca atacat tacata acatat catatg atatgg tatgga atggag tggagt ggagtc gagtca agtcag gtcaga tcagac cagacc agacct gacctt accttt cctttg ctttgt tttgtt ttgttt tgttta gtttaa tttaaa ttaaag taaagc aaagca aagcaa agcaat gcaatg caatga aatgac atgaca tgacag gacaga acagaa cagaag agaaga gaagat aagatg agatgg gatgga atggat tggatt ggattt gatttt attttt tttttg ttttgg tttggc ttggct tggctg ggctgt gctgta ctgtat tgtatg gtatgt tatgtt atgttc tgttca gttcag ttcaga tcagaa cagaag agaagc gaagct aagcta agctaa gctaaa ctaaag taaagg aaaggt aaggtc aggtct ggtctt gtcttg tcttgt cttgtt ttgtta tgttac gttaca ttacat tacatt acattg cattga attgaa ttgaag tgaagc gaagca aagcac agcact gcactc cactcc actccg ctccgc tccgcg ccgcga cgcgac gcgact cgactc gactcc actccc ctccct tccctt cccttt cctttt cttttt ttttta ttttaa tttaaa ttaaaa taaaag aaaagt aaagtg aagtgg agtgga gtggag tggagc ggagcc gagcct agcctt gccttt cctttt cttttc ttttct tttctt ttcttc tcttcc cttcct ttcctg tcctgg cctgga ctggac tggaca ggacac gacact acacta cactat actatg ctatga tatgaa atgaag tgaagt gaagtt aagttt agtttt gttttg ttttgg tttgga ttggat tggatt ggattt gattta atttaa tttaaa ttaaag taaagc aaagcc aagcca agccaa gccaaa ccaaat caaatg aaatgg aatggc atggca tggcaa ggcaaa gcaaag caaagt aaagtt aagttg agttgc gttgca ttgcat tgcatc gcatcc catccg atccgt tccgtg ccgtgg cgtgga gtggaa tggaaa ggaaat gaaatg aaatgg aatggt atggtt tggtta ggttaa gttaaa ttaaat taaata aaatat aatatc atatca tatcat atcatc tcatca catcac atcact tcactg cactgt actgtc ctgtcg tgtcgg gtcggg tcggga cgggat gggatg ggatgt gatgta atgtac tgtacc gtaccc tacccc acccct cccctg ccctgc cctgca ctgcac tgcacg gcacgc cacgcc acgccc cgccct gccctc ccctct cctcta ctctat tctatg ctatga tatgac atgaca tgacaa gacaat acaatg caatgt aatgtg atgtgg tgtgga gtggag tggaga ggagaa gagaaa agaaac gaaact aaactc aactct actctt ctcttt tctttc ctttcc tttcca ttccag tccagg ccaggt caggtt aggttt ggtttt gttttg ttttga tttgag ttgaga tgagat gagata agatag gataga atagaa tagaaa agaaac gaaact aaactg aactgt actgtg ctgtga tgtgaa gtgaag tgaaga gaagaa aagaac agaaca gaacaa aacaac acaacc caacct aacctc acctca cctcag ctcagg tcagga caggat aggatc ggatcc gatcct atcctt tccttt cctttt cttttt ttttta ttttaa tttaat ttaata taataa aataat ataatg taatgc aatgct atgctg tgctgt gctgta ctgtaa tgtaaa gtaaag taaaga aaagaa aagaaa agaaac gaaacg aaacgt aacgtt acgttt cgtttg gtttga tttgat ttgatg tgatga gatgac atgaca tgacag gacaga acagac cagaca agacag gacaga acagaa cagaag agaagg gaagga aaggat aggatt ggattg gattgg attggc ttggct tggctg ggctgc gctgcc ctgcct tgcctt gccttt cctttt ctttta ttttat tttatc ttatca tatcag atcagg tcaggg cagggg aggggg gggggc ggggct gggctt ggcttg gcttgg cttgga ttggac tggact ggactc gactcc actcca ctccag tccagc ccagct cagctt agcttg gcttgg cttggt ttggtt tggttg ggttgc gttgct ttgctg tgctgc gctgcc ctgcca tgccac gccact ccactc cactct actctg ctctgt tctgtt ctgttg tgttga gttgaa ttgaag tgaagc gaagca aagcag agcagc gcagct cagctg agctga gctgaa ctgaaa tgaaag gaaaga aaagaa aagaag agaagc gaagcc aagccc agccca gcccaa cccaag ccaagt caagta aagtac agtaca gtacag tacagt acagta cagtat agtatc gtatcc tatcct atcctc tcctct cctctc ctctcc tctcca ctccag tccaga ccagac cagaca agacat gacatt acattt catttg atttgc tttgca ttgcaa tgcaat gcaatt caattg aattgg attggc ttggca tggcat ggcatg gcatgg catgga atggaa tggaag ggaaga gaagac aagaca agacag gacagc acagcc cagccc agcccc gccccg ccccga cccgat ccgatt cgattt gattta atttac tttact ttactg tactgg actggc ctggct tggctg ggctgc gctgct ctgcta tgctag gctaga ctagaa tagaaa agaaag gaaagg aaaggt aaggtg aggtgg ggtggc gtggca tggcag ggcaga gcagat cagatc agatca gatcat atcata tcatat catatt atattg tattgg attgga ttggaa tggaag ggaagt gaagtg aagtga agtgaa gtgaac tgaaca gaacat aacatt acatta cattat attatg ttatga tatgaa atgaag tgaagt gaagtc aagtcc agtcct gtcctt tccttt cctttt cttttt ttttta ttttaa tttaac ttaact taactc aactct actctg ctctga tctgag ctgagg tgagga gaggaa aggaag ggaagg gaaggc aaggca aggcat ggcatt gcattc cattca attcag ttcagg tcaggc caggct aggctc ggctct gctctg ctctgg tctgga ctggat tggatg ggatga gatgaa atgaag tgaagt gaagtc aagtca agtcat gtcata tcatat catatt atattt tatttt attttc ttttcc tttcct ttcctt tccttg ccttgg cttgga ttggaa tggaaa ggaaac gaaact aaactt aactta acttat cttatg ttatga tatgac atgaca tgacat gacatt acatta cattac attaca ttacaa tacaac acaaca caacag aacagt acagtt cagttc agttcg gttcgt ttcgtg tcgtgc cgtgct gtgctt tgcttc gcttca cttcag ttcagt tcagta cagtag agtagg gtaggt taggta aggtat ggtatg gtatgt tatgta atgtat tgtatt gtattt tattta atttaa tttaat ttaatt taattt aatttc atttcc tttcca ttccaa tccaag ccaagt caagta aagtat agtata gtatat tatatt atattc tattcg attcgg ttcgga tcggaa cggaag ggaaga gaagaa aagaac agaaca gaacac aacaca acacag cacaga acagat cagata agatag gatagc atagcg tagcgt agcgtg gcgtgg cgtggt gtggtg tggtga ggtgat gtgatc tgatct gatctt atcttc tcttct cttctc ttctct tctctg ctctgg tctgga ctggag tggaga ggagaa gagaag agaagg gaagga aaggat aggatc ggatca gatcag atcaga tcagat cagatg agatga gatgaa atgaac tgaact gaactt aactta acttac cttacg ttacgc tacgca acgcag cgcagg gcaggg cagggt agggtt gggtta ggttac gttaca ttacat tacata acatat catata atatat tatatt atattt tatttt attttc ttttca tttcac ttcaca tcacaa cacaag acaagg caaggc aaggct aggctc ggctcc gctcct ctcctt tccttc ccttct cttctc ttctcc tctcct ctcctg tcctga cctgaa ctgaaa tgaaaa gaaaaa aaaaag aaaagc aaagcc aagccg agccga gccgag ccgagg cgagga gaggag aggagg ggagga gaggag aggaga ggagag gagagt agagtg gagtga agtgag gtgaga tgagag gagagg agaggc gaggct aggctt ggcttc gcttct cttctg ttctga tctgag ctgagg tgaggg gaggga agggaa gggaac ggaact gaactc aactct actcta ctctat tctatt ctattt tatttg atttgt tttgtt ttgttt tgtttg gtttga tttgat ttgatg tgatgt gatgtt atgttc tgttct gttctc ttctcc tctccg ctccgc tccgcg ccgcgc cgcgca gcgcag cgcaga gcagat cagatc agatcg gatcga atcgaa tcgaac cgaact gaacta aactac actact ctactg tactgc actgct ctgctg tgctgc gctgcc ctgccc tgccca gcccat cccatg ccatgg catggt atggtc tggtct ggtctt gtcttg tcttga cttgaa ttgaac tgaact gaactg aactga actgag ctgaga tgagag gagagt agagtc gagtcc agtccc gtccca tcccat cccatt ccattt catttc atttct tttcta ttctag tctaga ctagat tagatc agatca gatcat atcatc tcatcg catcga atcgat tcgatt cgattt gatttt attttc ttttct tttctt ttcttc tcttcc cttcct ttccta tcctat cctatt ctatta tattac attact ttactt tacttg acttgt cttgtc ttgtct tgtctc gtctct tctctg ctctgc tctgcc ctgcca tgccac gccacc ccacca caccag accaga ccagaa cagaaa agaaat gaaatg aaatga aatgag atgaga tgagaa gagaat agaatt gaattc aattcc attcca ttccaa tccaaa ccaaag caaaga aaagaa aagaat agaatg gaatgg aatggg atggga tgggat gggata ggatag gataga atagaa tagaaa agaaaa gaaaaa aaaaac aaaaca aaacat aacatc acatct catctc atctcc tctcct ctcctg tcctga cctgag ctgaga tgagag gagaga agagag gagaga agagac gagacg agacgt gacgtt acgttt cgtttg gtttga tttgag ttgagg tgagga gaggat aggatt ggattc gattcc attcca ttccaa tccaat ccaatc caatct aatctg atctga tctgat ctgata tgatac gatacc ataccc taccca acccaa cccaaa ccaaag caaaga aaagag aagaga agagat gagatt agattc gattct attctc ttctct tctctg ctctgg tctggc ctggcg tggcga ggcgac gcgacc cgacca gaccaa accaaa ccaaaa caaaag aaaaga aaagaa aagaag agaagc gaagcc aagcct agcctt gccttc ccttca cttcag ttcagt tcagtg cagtga agtgat gtgatg tgatgg gatgga atggaa tggaat ggaata gaataa aataac ataact taactt aacttc acttca cttcag ttcagt tcagtt cagtta agttaa gttaag ttaaga taagaa aagaat agaatt gaattc aattcc attcct ttcctg tcctgg cctggt ctggtt tggttt ggttta gtttaa tttaag ttaaga taagat aagatt agattt gatttt atttta ttttac tttaca ttacag tacagg acagga caggaa aggaat ggaata gaatac aatacg atacgt tacgtt acgttg cgttga gttgaa ttgaac tgaaca gaacat aacatc acatca catcag atcagg tcaggt caggtt aggttg ggttga gttgat ttgatg tgatga gatgat atgatg tgatgc gatgca atgcaa tgcaat gcaatg caatga aatgat atgatg tgatgg gatggc atggca tggcaa ggcaaa gcaaat caaatg aaatgc aatgca atgcag tgcagc gcagcc cagccc agccca gcccag cccaga ccagaa cagaaa agaaat gaaatt aaattt aatttc atttcc tttccc ttccct tccctt cccttc ccttca cttcaa ttcaat tcaata caatac aatact atactc tactcc actcct ctccta tcctaa cctaaa ctaaaa taaaac aaaacc aaacca aaccaa accaaa ccaaag caaaga aaagaa aagaag agaagg gaagga aaggat aggata ggatat gatatt atatta tattac attact ttacta tactac actacc ctaccg taccgt accgtc ccgtca cgtcaa gtcaag tcaagt caagtc aagtct agtctt gtcttt tctttg ctttga tttgaa ttgaac tgaacg gaacgc aacgcc acgcca cgccat gccatt ccatta cattac attacc ttaccc taccca acccag cccagg ccaggc caggcc aggccg ggccgg gccggg ccgggc cgggct gggctg ggctga gctgac ctgact tgactg gactgg actggc ctggct tggctg ggctga gctgag ctgagc tgagcc gagcca agccat gccatt ccatta cattac attact ttactg tactgg actgga ctggat tggatg ggatgc gatgcc atgccc tgccca gcccaa cccaag ccaagt caagtg aagtgg agtgga gtggat tggatc ggatca gatcaa atcaat tcaatg caatgc aatgcc atgcca tgccac gccact ccactg cactga actgac ctgacc tgaccc gaccct accctt cccttc ccttct cttctg ttctgc tctgcc ctgccc tgcccg gcccgc cccgca ccgcac cgcacg gcacgc cacgct acgctg cgctga gctgac ctgacc tgaccc gaccca acccac cccact ccacta cactac actaca ctacaa tacaag acaagt caagtc aagtca agtcag gtcagc tcagct cagctg agctgt gctgtc ctgtca tgtcaa gtcaaa tcaaag caaagc aaagct aagctt agctta gcttag\n"
     ]
    }
   ],
   "source": [
    "print(human_texts[2])"
   ]
  },
  {
   "cell_type": "code",
   "execution_count": 14,
   "id": "e264408e-63de-410e-b0d2-44abeba48191",
   "metadata": {},
   "outputs": [
    {
     "data": {
      "text/plain": [
       "array([4, 4, 3, ..., 6, 6, 6], dtype=int64)"
      ]
     },
     "execution_count": 14,
     "metadata": {},
     "output_type": "execute_result"
    }
   ],
   "source": [
    "y_data"
   ]
  },
  {
   "cell_type": "code",
   "execution_count": 15,
   "id": "42f3227a-f205-4cc8-99c5-767964997dea",
   "metadata": {},
   "outputs": [],
   "source": [
    "from sklearn.feature_extraction.text import CountVectorizer\n",
    "cv = CountVectorizer(ngram_range = (4,4))\n",
    "X = cv.fit_transform(human_texts)"
   ]
  },
  {
   "cell_type": "code",
   "execution_count": 16,
   "id": "6467b47e-1d73-476d-9204-5417b2dc0a11",
   "metadata": {},
   "outputs": [
    {
     "name": "stdout",
     "output_type": "stream",
     "text": [
      "(4380, 232414)\n"
     ]
    }
   ],
   "source": [
    "print(X.shape)"
   ]
  },
  {
   "cell_type": "code",
   "execution_count": 17,
   "id": "70f9728e-55e3-46b4-bbbe-951470428bf6",
   "metadata": {},
   "outputs": [
    {
     "data": {
      "text/plain": [
       "<Axes: xlabel='class'>"
      ]
     },
     "execution_count": 17,
     "metadata": {},
     "output_type": "execute_result"
    },
    {
     "data": {
      "image/png": "[encoded data removed]",
      "text/plain": [
       "<Figure size 640x480 with 1 Axes>"
      ]
     },
     "metadata": {},
     "output_type": "display_data"
    }
   ],
   "source": [
    "human_data['class'].value_counts().sort_index().plot.bar()"
   ]
  },
  {
   "cell_type": "code",
   "execution_count": 18,
   "id": "9a9e729b-4dea-4857-80a7-45e9c7e78af3",
   "metadata": {},
   "outputs": [],
   "source": [
    "from sklearn.model_selection import train_test_split\n",
    "X_train , X_test , y_train , y_test = train_test_split(X,y_data, test_size = 0.20 , random_state = 42)"
   ]
  },
  {
   "cell_type": "code",
   "execution_count": 19,
   "id": "8fa31c35-4e45-4163-9901-7736111cd25c",
   "metadata": {},
   "outputs": [
    {
     "name": "stdout",
     "output_type": "stream",
     "text": [
      "Total length of the dataset: 4380\n",
      "Total length of the training set: 3504\n",
      "Total length of the testing set: 876\n"
     ]
    }
   ],
   "source": [
    "print(\"Total length of the dataset:\",len(human_data))\n",
    "print(\"Total length of the training set:\",X_train.shape[0])\n",
    "print(\"Total length of the testing set:\",X_test.shape[0])"
   ]
  },
  {
   "cell_type": "code",
   "execution_count": 20,
   "id": "9fa59093-99e2-4f09-b6b9-3740b9e9eade",
   "metadata": {},
   "outputs": [],
   "source": [
    "from sklearn.neighbors import KNeighborsClassifier\n",
    "from sklearn.tree import DecisionTreeClassifier\n",
    "from sklearn.ensemble import RandomForestClassifier\n",
    "from sklearn.naive_bayes import GaussianNB\n",
    "from sklearn.svm import SVC\n",
    "from sklearn.metrics import accuracy_score, f1_score, precision_score, recall_score"
   ]
  },
  {
   "cell_type": "code",
   "execution_count": 21,
   "id": "b5e9a4a0-a645-4d77-8f6e-540a52a91e5e",
   "metadata": {},
   "outputs": [],
   "source": [
    "#SVM linear"
   ]
  },
  {
   "cell_type": "code",
   "execution_count": 22,
   "id": "8bb79329-b34f-4e22-8b90-b1feb4f5c9da",
   "metadata": {},
   "outputs": [],
   "source": [
    "model1 = SVC(kernel='linear')\n",
    "model1.fit(X_train, y_train)\n",
    "y_pred = model1.predict(X_test)\n",
    "accuracy = accuracy_score(y_test, y_pred)\n",
    "f1 = f1_score(y_test, y_pred, average='macro') \n",
    "precision = precision_score(y_test, y_pred, average='macro') \n",
    "recall = recall_score(y_test, y_pred, average='macro')"
   ]
  },
  {
   "cell_type": "code",
   "execution_count": 23,
   "id": "e95e5a2e-d44a-4e85-b7d3-5effba9b3fa5",
   "metadata": {},
   "outputs": [
    {
     "name": "stdout",
     "output_type": "stream",
     "text": [
      "Accuracy: 91.32420091324201\n",
      "\n",
      " F1: 0.9176924080962724\n",
      "\n",
      " Precision: 0.9565661819178631\n",
      "\n",
      " Recall: 0.8884530250046269\n"
     ]
    }
   ],
   "source": [
    "print(\"Accuracy:\",accuracy*100)\n",
    "print(\"\\n F1:\", f1)\n",
    "print(\"\\n Precision:\",precision)\n",
    "print(\"\\n Recall:\",recall)"
   ]
  },
  {
   "cell_type": "code",
   "execution_count": 24,
   "id": "7e555afe-9eb4-4cfb-b37a-2dcc81afc70a",
   "metadata": {},
   "outputs": [],
   "source": [
    "model2 = KNeighborsClassifier(algorithm='brute')\n",
    "model2.fit(X_train, y_train)\n",
    "y_pred = model2.predict(X_test)\n",
    "accuracy1 = accuracy_score(y_test, y_pred)\n",
    "f11 = f1_score(y_test, y_pred, average='macro') \n",
    "precision1 = precision_score(y_test, y_pred, average='macro') \n",
    "recall1 = recall_score(y_test, y_pred, average='macro')"
   ]
  },
  {
   "cell_type": "code",
   "execution_count": 25,
   "id": "e9aef17d-8a62-4a76-a1f0-c440f5ccf7b3",
   "metadata": {},
   "outputs": [
    {
     "name": "stdout",
     "output_type": "stream",
     "text": [
      "Accuracy: 82.42009132420091\n",
      "\n",
      " F1: 0.8327351990250242\n",
      "\n",
      " Precision: 0.9225998463901689\n",
      "\n",
      " Recall: 0.7817684422557755\n"
     ]
    }
   ],
   "source": [
    "print(\"Accuracy:\",accuracy1*100)\n",
    "print(\"\\n F1:\", f11)\n",
    "print(\"\\n Precision:\",precision1)\n",
    "print(\"\\n Recall:\",recall1)"
   ]
  },
  {
   "cell_type": "code",
   "execution_count": 26,
   "id": "24c974e5-b3cc-4b3e-8121-5e12ede06f21",
   "metadata": {},
   "outputs": [],
   "source": [
    "model3 = DecisionTreeClassifier()\n",
    "model3.fit(X_train, y_train)\n",
    "y_pred = model3.predict(X_test)\n",
    "accuracy2 = accuracy_score(y_test, y_pred)\n",
    "f12 = f1_score(y_test, y_pred, average='macro') \n",
    "precision2 = precision_score(y_test, y_pred, average='macro') \n",
    "recall2 = recall_score(y_test, y_pred, average='macro')"
   ]
  },
  {
   "cell_type": "code",
   "execution_count": 27,
   "id": "48f90e6a-a19f-4e91-ad4d-247ae9fde630",
   "metadata": {},
   "outputs": [
    {
     "name": "stdout",
     "output_type": "stream",
     "text": [
      "Accuracy: 81.62100456621005\n",
      "\n",
      " F1: 0.811440300264483\n",
      "\n",
      " Precision: 0.823697942500994\n",
      "\n",
      " Recall: 0.8091673205688507\n"
     ]
    }
   ],
   "source": [
    "print(\"Accuracy:\",accuracy2*100)\n",
    "print(\"\\n F1:\", f12)\n",
    "print(\"\\n Precision:\",precision2)\n",
    "print(\"\\n Recall:\",recall2)"
   ]
  },
  {
   "cell_type": "code",
   "execution_count": 28,
   "id": "0258d3cf-a2c0-4216-8b17-a796f39d9913",
   "metadata": {},
   "outputs": [],
   "source": [
    "model4 = RandomForestClassifier()\n",
    "model4.fit(X_train, y_train)\n",
    "y_pred = model4.predict(X_test)\n",
    "accuracy3 = accuracy_score(y_test, y_pred)\n",
    "f13 = f1_score(y_test, y_pred, average='macro') \n",
    "precision3 = precision_score(y_test, y_pred, average='macro') \n",
    "recall3 = recall_score(y_test, y_pred, average='macro')"
   ]
  },
  {
   "cell_type": "code",
   "execution_count": 29,
   "id": "12cf214f-6744-4cbb-acfd-34c9364893e9",
   "metadata": {},
   "outputs": [
    {
     "name": "stdout",
     "output_type": "stream",
     "text": [
      "Accuracy: 92.00913242009132\n",
      "\n",
      " F1: 0.9196098466027908\n",
      "\n",
      " Precision: 0.935600455920653\n",
      "\n",
      " Recall: 0.91036619433622\n"
     ]
    }
   ],
   "source": [
    "print(\"Accuracy:\",accuracy3*100)\n",
    "print(\"\\n F1:\", f13)\n",
    "print(\"\\n Precision:\",precision3)\n",
    "print(\"\\n Recall:\",recall3)"
   ]
  },
  {
   "cell_type": "code",
   "execution_count": 30,
   "id": "4dec0de4-2570-40e5-885e-4de6a7d4bee4",
   "metadata": {},
   "outputs": [],
   "source": [
    "#SVM RBF"
   ]
  },
  {
   "cell_type": "code",
   "execution_count": 31,
   "id": "a7e1f905-32d2-43f2-b68d-34d42e1ee393",
   "metadata": {},
   "outputs": [],
   "source": [
    "model5 = SVC(kernel ='rbf', random_state = 0)\n",
    "model5.fit(X_train, y_train)\n",
    "y_pred = model5.predict(X_test)\n",
    "accuracy5 = accuracy_score(y_test, y_pred)\n",
    "f15 = f1_score(y_test, y_pred, average='macro') \n",
    "precision5 = precision_score(y_test, y_pred, average='macro') \n",
    "recall5 = recall_score(y_test, y_pred, average='macro')"
   ]
  },
  {
   "cell_type": "code",
   "execution_count": 32,
   "id": "145d8fa9-bd44-4bca-b1a9-fed00a74ea0a",
   "metadata": {},
   "outputs": [
    {
     "name": "stdout",
     "output_type": "stream",
     "text": [
      "Accuracy: 80.59360730593608\n",
      "\n",
      " F1: 0.8182646511192271\n",
      "\n",
      " Precision: 0.9406588539430452\n",
      "\n",
      " Recall: 0.7520315492694579\n"
     ]
    }
   ],
   "source": [
    "print(\"Accuracy:\",accuracy5*100)\n",
    "print(\"\\n F1:\", f15)\n",
    "print(\"\\n Precision:\",precision5)\n",
    "print(\"\\n Recall:\",recall5)"
   ]
  },
  {
   "cell_type": "code",
   "execution_count": 33,
   "id": "270d8ab0-b576-44c3-91d9-a92de3db0afd",
   "metadata": {},
   "outputs": [],
   "source": [
    "#SVM Sigmoid"
   ]
  },
  {
   "cell_type": "code",
   "execution_count": 34,
   "id": "c142d33c-77fb-4981-a984-b863b2b04523",
   "metadata": {},
   "outputs": [],
   "source": [
    "model7 = SVC(kernel ='rbf', random_state = 0)\n",
    "model7.fit(X_train, y_train)\n",
    "y_pred = model7.predict(X_test)\n",
    "accuracy7 = accuracy_score(y_test, y_pred)\n",
    "f17 = f1_score(y_test, y_pred, average='macro') \n",
    "precision7 = precision_score(y_test, y_pred, average='macro') \n",
    "recall7 = recall_score(y_test, y_pred, average='macro')"
   ]
  },
  {
   "cell_type": "code",
   "execution_count": 35,
   "id": "19ecaaa8-075d-42ae-bb51-93b0dd5b998b",
   "metadata": {},
   "outputs": [
    {
     "name": "stdout",
     "output_type": "stream",
     "text": [
      "Accuracy: 80.59360730593608\n",
      "\n",
      " F1: 0.8182646511192271\n",
      "\n",
      " Precision: 0.9406588539430452\n",
      "\n",
      " Recall: 0.7520315492694579\n"
     ]
    }
   ],
   "source": [
    "print(\"Accuracy:\",accuracy7*100)\n",
    "print(\"\\n F1:\", f17)\n",
    "print(\"\\n Precision:\",precision7)\n",
    "print(\"\\n Recall:\",recall7)"
   ]
  },
  {
   "cell_type": "code",
   "execution_count": 36,
   "id": "09ce916f-c3ae-419b-8cf9-cb36c811faaa",
   "metadata": {},
   "outputs": [],
   "source": [
    "#Naive Bayes"
   ]
  },
  {
   "cell_type": "code",
   "execution_count": 37,
   "id": "a7cde21c-9261-4511-86fb-626c81ce7e95",
   "metadata": {},
   "outputs": [],
   "source": [
    "from sklearn.naive_bayes import GaussianNB\n",
    "model6 = GaussianNB()\n",
    "model6 = SVC(kernel ='rbf', random_state = 0)\n",
    "model6.fit(X_train, y_train)\n",
    "y_pred = model6.predict(X_test)\n",
    "accuracy6 = accuracy_score(y_test, y_pred)\n",
    "f16 = f1_score(y_test, y_pred, average='macro') \n",
    "precision6 = precision_score(y_test, y_pred, average='macro') \n",
    "recall6 = recall_score(y_test, y_pred, average='macro')"
   ]
  },
  {
   "cell_type": "code",
   "execution_count": 38,
   "id": "891ac87f-081c-46a1-a8ab-c921a41e8459",
   "metadata": {},
   "outputs": [
    {
     "name": "stdout",
     "output_type": "stream",
     "text": [
      "Accuracy: 80.59360730593608\n",
      "\n",
      " F1: 0.8182646511192271\n",
      "\n",
      " Precision: 0.9406588539430452\n",
      "\n",
      " Recall: 0.7520315492694579\n"
     ]
    }
   ],
   "source": [
    "print(\"Accuracy:\",accuracy6*100)\n",
    "print(\"\\n F1:\", f16)\n",
    "print(\"\\n Precision:\",precision6)\n",
    "print(\"\\n Recall:\",recall6)"
   ]
  },
  {
   "cell_type": "code",
   "execution_count": 39,
   "id": "344b697c-fd7b-45e3-a664-015ca63c4dbd",
   "metadata": {},
   "outputs": [
    {
     "data": {
      "image/png": "[encoded data removed]",
      "text/plain": [
       "<Figure size 1000x600 with 1 Axes>"
      ]
     },
     "metadata": {},
     "output_type": "display_data"
    }
   ],
   "source": [
    "import pandas as pd\n",
    "import seaborn as sns\n",
    "import matplotlib.pyplot as plt\n",
    "\n",
    "# Define the model names and metrics\n",
    "model_names = ['KNN', 'Decision Tree', 'Random Forest','Naive Bayes','SVM RBF','SVM Sigmoid','Linear SVM']\n",
    "accuracies = [accuracy1, accuracy2, accuracy3,accuracy6,accuracy5,accuracy7,accuracy ]\n",
    "f1_scores = [f11, f12, f13,f16,f15,f17,f1 ]\n",
    "precisions = [precision1, precision2, precision3,precision6,precision5,precision7,precision ]\n",
    "recalls = [recall1, recall2, recall3,recall6,recall5,recall7,recall ]\n",
    "\n",
    "# Create a DataFrame from the lists\n",
    "results_df = pd.DataFrame({\n",
    "    'Model': model_names,\n",
    "    'Accuracy': accuracies,\n",
    "    'Precision': precisions,\n",
    "    'Recall': recalls,\n",
    "    'F1 Score': f1_scores\n",
    "})\n",
    "\n",
    "# Melt the DataFrame for easier plotting with seaborn\n",
    "results_melted = results_df.melt(id_vars='Model', var_name='Metric', value_name='Score')\n",
    "\n",
    "# Plot the comparison chart with specific colors for each metric\n",
    "colors = {\n",
    "    'Accuracy': 'blue',\n",
    "    'Precision': 'red',\n",
    "    'Recall': 'purple',\n",
    "    'F1 Score': 'cyan'\n",
    "}\n",
    "\n",
    "# Create a bar plot\n",
    "plt.figure(figsize=(10, 6))\n",
    "ax = sns.barplot(x='Model', y='Score', hue='Metric', data=results_melted, palette=colors)\n",
    "\n",
    "# Add labels to each bar\n",
    "for container in ax.containers:\n",
    "    ax.bar_label(container, fmt='%.2f', label_type='edge')\n",
    "\n",
    "plt.title('Model Comparison')\n",
    "plt.xlabel('\\nAlgorithms')\n",
    "plt.ylabel('Metrics')\n",
    "\n",
    "legend = ax.legend(loc='center left', bbox_to_anchor=(1, 0.5), title='Metrics', fancybox=True)\n",
    "legend.get_frame().set_boxstyle('square')\n",
    "\n",
    "plt.show()\n"
   ]
  },
  {
   "cell_type": "code",
   "execution_count": 40,
   "id": "4bc202ae-e19c-4caa-9af0-3881df03506b",
   "metadata": {},
   "outputs": [],
   "source": [
    "from sklearn.linear_model import LogisticRegression"
   ]
  },
  {
   "cell_type": "code",
   "execution_count": 41,
   "id": "4a349093-84ed-4e6a-b145-1c38253fe29d",
   "metadata": {},
   "outputs": [],
   "source": [
    "model11 =LogisticRegression()\n",
    "model11.fit(X_train, y_train)\n",
    "y_pred = model11.predict(X_test)\n",
    "accuracy11 = accuracy_score(y_test, y_pred)\n",
    "f111 = f1_score(y_test, y_pred, average='macro')\n",
    "precision11 = precision_score(y_test, y_pred, average='macro') \n",
    "recall11 = recall_score(y_test, y_pred, average='macro')"
   ]
  },
  {
   "cell_type": "code",
   "execution_count": 42,
   "id": "a03617ab-b619-4dd8-b775-903ff657bfb6",
   "metadata": {},
   "outputs": [
    {
     "name": "stdout",
     "output_type": "stream",
     "text": [
      "Accuracy: 93.94977168949772\n",
      "\n",
      " F1: 0.9451191538942717\n",
      "\n",
      " Precision: 0.9725694674829045\n",
      "\n",
      " Recall: 0.9231277773516747\n"
     ]
    }
   ],
   "source": [
    "print(\"Accuracy:\",accuracy11*100)\n",
    "print(\"\\n F1:\", f111)\n",
    "print(\"\\n Precision:\",precision11)\n",
    "print(\"\\n Recall:\",recall11)"
   ]
  },
  {
   "cell_type": "code",
   "execution_count": 43,
   "id": "9acb48c0-2b3c-4794-9954-e4c23f26b178",
   "metadata": {},
   "outputs": [],
   "source": [
    "from sklearn.ensemble import AdaBoostClassifier"
   ]
  },
  {
   "cell_type": "code",
   "execution_count": 44,
   "id": "a4646ad4-8b8d-400b-a7b8-afe308794a2b",
   "metadata": {},
   "outputs": [],
   "source": [
    "model12 = AdaBoostClassifier()\n",
    "model12.fit(X_train, y_train)\n",
    "y_pred = model12.predict(X_test)\n",
    "accuracy12 = accuracy_score(y_test, y_pred)\n",
    "f112 = f1_score(y_test, y_pred, average='macro') \n",
    "precision12 = precision_score(y_test, y_pred, average='macro') \n",
    "recall12 = recall_score(y_test, y_pred, average='macro')"
   ]
  },
  {
   "cell_type": "code",
   "execution_count": 45,
   "id": "c04b60f5-7cf2-4896-92f5-d8c2b760cb95",
   "metadata": {},
   "outputs": [
    {
     "name": "stdout",
     "output_type": "stream",
     "text": [
      "Accuracy: 42.80821917808219\n",
      "\n",
      " F1: 0.37352906688224075\n",
      "\n",
      " Precision: 0.5227422564472085\n",
      "\n",
      " Recall: 0.3604708879353457\n"
     ]
    }
   ],
   "source": [
    "print(\"Accuracy:\",accuracy12*100)\n",
    "print(\"\\n F1:\", f112)\n",
    "print(\"\\n Precision:\",precision12)\n",
    "print(\"\\n Recall:\",recall12)"
   ]
  },
  {
   "cell_type": "code",
   "execution_count": 46,
   "id": "c78320da-0b50-41ec-b4eb-28ac458a11b8",
   "metadata": {},
   "outputs": [],
   "source": [
    "from sklearn.naive_bayes import BernoulliNB"
   ]
  },
  {
   "cell_type": "code",
   "execution_count": 47,
   "id": "2291d84b-f780-4f6b-9806-be1ed85287c5",
   "metadata": {},
   "outputs": [],
   "source": [
    "model13 = BernoulliNB()\n",
    "model13.fit(X_train, y_train)\n",
    "y_pred = model13.predict(X_test)\n",
    "accuracy13 = accuracy_score(y_test, y_pred)\n",
    "f113 = f1_score(y_test, y_pred, average='macro') \n",
    "precision13 = precision_score(y_test, y_pred, average='macro') \n",
    "recall13 = recall_score(y_test, y_pred, average='macro')"
   ]
  },
  {
   "cell_type": "code",
   "execution_count": 48,
   "id": "60d658e8-258b-4b72-8f9e-50d6c91d689c",
   "metadata": {},
   "outputs": [
    {
     "name": "stdout",
     "output_type": "stream",
     "text": [
      "Accuracy: 81.84931506849315\n",
      "\n",
      " F1: 0.7880170677667968\n",
      "\n",
      " Precision: 0.8888876227550239\n",
      "\n",
      " Recall: 0.7517646681197098\n"
     ]
    }
   ],
   "source": [
    "print(\"Accuracy:\",accuracy13*100)\n",
    "print(\"\\n F1:\", f113)\n",
    "print(\"\\n Precision:\",precision13)\n",
    "print(\"\\n Recall:\",recall13)"
   ]
  },
  {
   "cell_type": "code",
   "execution_count": 49,
   "id": "af463d6c-79c2-4b64-bcfb-1c0407e9cd40",
   "metadata": {},
   "outputs": [],
   "source": [
    "from sklearn.linear_model import SGDClassifier"
   ]
  },
  {
   "cell_type": "code",
   "execution_count": 50,
   "id": "afc67cab-127f-4db2-810a-75393d7a8495",
   "metadata": {},
   "outputs": [],
   "source": [
    "model12 = SGDClassifier(loss='log_loss', alpha=0.01,max_iter=1000, random_state=42)\n",
    "model12.fit(X_train, y_train)\n",
    "y_pred = model12.predict(X_test)\n",
    "accuracy12 = accuracy_score(y_test, y_pred)\n",
    "f112 = f1_score(y_test, y_pred, average='macro') \n",
    "precision12 = precision_score(y_test, y_pred, average='macro') \n",
    "recall12 = recall_score(y_test, y_pred, average='macro')"
   ]
  },
  {
   "cell_type": "code",
   "execution_count": 51,
   "id": "e4c6e354-179d-42b5-b575-80dc8cf91127",
   "metadata": {},
   "outputs": [
    {
     "name": "stdout",
     "output_type": "stream",
     "text": [
      "Accuracy: 97.48858447488584\n",
      "\n",
      " F1: 0.9783450527821425\n",
      "\n",
      " Precision: 0.9864983105596076\n",
      "\n",
      " Recall: 0.9708412650845591\n"
     ]
    }
   ],
   "source": [
    "print(\"Accuracy:\",accuracy12*100)\n",
    "print(\"\\n F1:\", f112)\n",
    "print(\"\\n Precision:\",precision12)\n",
    "print(\"\\n Recall:\",recall12)"
   ]
  },
  {
   "cell_type": "code",
   "execution_count": 52,
   "id": "ea922fa7-8fbe-4477-83d1-8684b3123367",
   "metadata": {},
   "outputs": [
    {
     "name": "stdout",
     "output_type": "stream",
     "text": [
      "Requirement already satisfied: mlxtend in c:\\users\\bhagy\\anaconda3\\lib\\site-packages (0.23.1)\n",
      "Requirement already satisfied: scipy>=1.2.1 in c:\\users\\bhagy\\anaconda3\\lib\\site-packages (from mlxtend) (1.11.4)\n",
      "Requirement already satisfied: numpy>=1.16.2 in c:\\users\\bhagy\\anaconda3\\lib\\site-packages (from mlxtend) (1.26.4)\n",
      "Requirement already satisfied: pandas>=0.24.2 in c:\\users\\bhagy\\anaconda3\\lib\\site-packages (from mlxtend) (2.1.4)\n",
      "Requirement already satisfied: scikit-learn>=1.0.2 in c:\\users\\bhagy\\anaconda3\\lib\\site-packages (from mlxtend) (1.2.2)\n",
      "Requirement already satisfied: matplotlib>=3.0.0 in c:\\users\\bhagy\\anaconda3\\lib\\site-packages (from mlxtend) (3.8.0)\n",
      "Requirement already satisfied: joblib>=0.13.2 in c:\\users\\bhagy\\anaconda3\\lib\\site-packages (from mlxtend) (1.2.0)\n",
      "Requirement already satisfied: contourpy>=1.0.1 in c:\\users\\bhagy\\anaconda3\\lib\\site-packages (from matplotlib>=3.0.0->mlxtend) (1.2.0)\n",
      "Requirement already satisfied: cycler>=0.10 in c:\\users\\bhagy\\anaconda3\\lib\\site-packages (from matplotlib>=3.0.0->mlxtend) (0.11.0)\n",
      "Requirement already satisfied: fonttools>=4.22.0 in c:\\users\\bhagy\\anaconda3\\lib\\site-packages (from matplotlib>=3.0.0->mlxtend) (4.25.0)\n",
      "Requirement already satisfied: kiwisolver>=1.0.1 in c:\\users\\bhagy\\anaconda3\\lib\\site-packages (from matplotlib>=3.0.0->mlxtend) (1.4.4)\n",
      "Requirement already satisfied: packaging>=20.0 in c:\\users\\bhagy\\anaconda3\\lib\\site-packages (from matplotlib>=3.0.0->mlxtend) (23.1)\n",
      "Requirement already satisfied: pillow>=6.2.0 in c:\\users\\bhagy\\anaconda3\\lib\\site-packages (from matplotlib>=3.0.0->mlxtend) (10.2.0)\n",
      "Requirement already satisfied: pyparsing>=2.3.1 in c:\\users\\bhagy\\anaconda3\\lib\\site-packages (from matplotlib>=3.0.0->mlxtend) (3.0.9)\n",
      "Requirement already satisfied: python-dateutil>=2.7 in c:\\users\\bhagy\\anaconda3\\lib\\site-packages (from matplotlib>=3.0.0->mlxtend) (2.8.2)\n",
      "Requirement already satisfied: pytz>=2020.1 in c:\\users\\bhagy\\anaconda3\\lib\\site-packages (from pandas>=0.24.2->mlxtend) (2023.3.post1)\n",
      "Requirement already satisfied: tzdata>=2022.1 in c:\\users\\bhagy\\anaconda3\\lib\\site-packages (from pandas>=0.24.2->mlxtend) (2023.3)\n",
      "Requirement already satisfied: threadpoolctl>=2.0.0 in c:\\users\\bhagy\\anaconda3\\lib\\site-packages (from scikit-learn>=1.0.2->mlxtend) (2.2.0)\n",
      "Requirement already satisfied: six>=1.5 in c:\\users\\bhagy\\anaconda3\\lib\\site-packages (from python-dateutil>=2.7->matplotlib>=3.0.0->mlxtend) (1.16.0)\n",
      "Note: you may need to restart the kernel to use updated packages.\n"
     ]
    }
   ],
   "source": [
    "pip install mlxtend"
   ]
  },
  {
   "cell_type": "code",
   "execution_count": 53,
   "id": "fa7875ec-76b2-4a03-bec6-db1cde2ca06c",
   "metadata": {},
   "outputs": [],
   "source": [
    "from mlxtend.classifier import StackingClassifier"
   ]
  },
  {
   "cell_type": "code",
   "execution_count": 54,
   "id": "e2583631-ade3-4f2e-9a2d-e9e03863f8e6",
   "metadata": {},
   "outputs": [],
   "source": [
    "rfc = RandomForestClassifier()\n",
    "sgd = SGDClassifier(loss='log_loss', alpha=0.01,max_iter=1000, random_state=42)"
   ]
  },
  {
   "cell_type": "code",
   "execution_count": 55,
   "id": "e5b0db00-a504-4682-9dd7-bfabb9c68a14",
   "metadata": {},
   "outputs": [],
   "source": [
    "model_rfc = rfc.fit(X_train, y_train)\n",
    "pred_knc = model_rfc.predict(X_test)"
   ]
  },
  {
   "cell_type": "code",
   "execution_count": 56,
   "id": "872d0078-97fe-45de-8e2e-112c2c236279",
   "metadata": {},
   "outputs": [
    {
     "name": "stdout",
     "output_type": "stream",
     "text": [
      "accuracy score of KNeighbors Classifier is: 92.23744292237443\n"
     ]
    }
   ],
   "source": [
    "acc_rfc = accuracy_score(y_test, pred_knc)\n",
    "print('accuracy score of KNeighbors Classifier is:', acc_rfc * 100)"
   ]
  },
  {
   "cell_type": "code",
   "execution_count": 57,
   "id": "c97a9670-565d-4d58-be3a-4f0ccbc844d9",
   "metadata": {},
   "outputs": [],
   "source": [
    "model_sgd = sgd.fit(X_train, y_train)\n",
    "pred_nb = model_sgd.predict(X_test)"
   ]
  },
  {
   "cell_type": "code",
   "execution_count": 58,
   "id": "164d45fc-be37-4cce-b551-37a9a507daf8",
   "metadata": {},
   "outputs": [
    {
     "name": "stdout",
     "output_type": "stream",
     "text": [
      "Accuracy of Naive Bayes Classifier: 97.48858447488584\n"
     ]
    }
   ],
   "source": [
    "acc_nb = accuracy_score(y_test, pred_nb)\n",
    "print('Accuracy of Naive Bayes Classifier:', acc_nb * 100)"
   ]
  },
  {
   "cell_type": "code",
   "execution_count": 59,
   "id": "82aa92b6-c237-4a39-8e15-c858acd0c410",
   "metadata": {},
   "outputs": [],
   "source": [
    "lr = LogisticRegression()"
   ]
  },
  {
   "cell_type": "code",
   "execution_count": 60,
   "id": "41b7eba8-f9cc-47cf-9e70-548341da0c2d",
   "metadata": {},
   "outputs": [],
   "source": [
    "clf_stack = StackingClassifier(classifiers =[rfc,sgd], meta_classifier = lr, use_probas = True, use_features_in_secondary = True)"
   ]
  },
  {
   "cell_type": "code",
   "execution_count": 61,
   "id": "7f5b4e62-e565-48c9-86a0-b950dd2af5c4",
   "metadata": {},
   "outputs": [],
   "source": [
    "model19 = clf_stack.fit(X_train, y_train)\n",
    "model19.fit(X_train, y_train)\n",
    "y_pred = model19.predict(X_test)\n",
    "accuracy19 = accuracy_score(y_test, y_pred)\n",
    "f119 = f1_score(y_test, y_pred, average='macro')\n",
    "precision19 = precision_score(y_test, y_pred, average='macro')\n",
    "recall19 = recall_score(y_test, y_pred, average='macro')"
   ]
  },
  {
   "cell_type": "code",
   "execution_count": 62,
   "id": "c75598a4-3cde-4da7-be89-9f9eea4d4328",
   "metadata": {},
   "outputs": [
    {
     "name": "stdout",
     "output_type": "stream",
     "text": [
      "Accuracy: 94.97716894977168\n",
      "\n",
      " F1: 0.9524896947971054\n",
      "\n",
      " Precision: 0.9709139279229062\n",
      "\n",
      " Recall: 0.9371467974454664\n"
     ]
    }
   ],
   "source": [
    "print(\"Accuracy:\",accuracy19*100)\n",
    "print(\"\\n F1:\", f119)\n",
    "print(\"\\n Precision:\",precision19)\n",
    "print(\"\\n Recall:\",recall19)"
   ]
  },
  {
   "cell_type": "code",
   "execution_count": 66,
   "id": "d003dff6-c5fe-40b5-b01a-1215cf32b128",
   "metadata": {},
   "outputs": [],
   "source": [
    "from sklearn.ensemble import GradientBoostingClassifier"
   ]
  },
  {
   "cell_type": "code",
   "execution_count": 67,
   "id": "e667243b-48cb-4f31-905f-a763ebabb8cf",
   "metadata": {},
   "outputs": [],
   "source": [
    "model_gb = GradientBoostingClassifier()"
   ]
  },
  {
   "cell_type": "code",
   "execution_count": 68,
   "id": "a00ebfb5-1e6c-41f6-a60f-df121961ee2c",
   "metadata": {},
   "outputs": [
    {
     "data": {
      "text/html": [
       "<style>#sk-container-id-1 {color: black;background-color: white;}#sk-container-id-1 pre{padding: 0;}#sk-container-id-1 div.sk-toggleable {background-color: white;}#sk-container-id-1 label.sk-toggleable__label {cursor: pointer;display: block;width: 100%;margin-bottom: 0;padding: 0.3em;box-sizing: border-box;text-align: center;}#sk-container-id-1 label.sk-toggleable__label-arrow:before {content: \"▸\";float: left;margin-right: 0.25em;color: #696969;}#sk-container-id-1 label.sk-toggleable__label-arrow:hover:before {color: black;}#sk-container-id-1 div.sk-estimator:hover label.sk-toggleable__label-arrow:before {color: black;}#sk-container-id-1 div.sk-toggleable__content {max-height: 0;max-width: 0;overflow: hidden;text-align: left;background-color: #f0f8ff;}#sk-container-id-1 div.sk-toggleable__content pre {margin: 0.2em;color: black;border-radius: 0.25em;background-color: #f0f8ff;}#sk-container-id-1 input.sk-toggleable__control:checked~div.sk-toggleable__content {max-height: 200px;max-width: 100%;overflow: auto;}#sk-container-id-1 input.sk-toggleable__control:checked~label.sk-toggleable__label-arrow:before {content: \"▾\";}#sk-container-id-1 div.sk-estimator input.sk-toggleable__control:checked~label.sk-toggleable__label {background-color: #d4ebff;}#sk-container-id-1 div.sk-label input.sk-toggleable__control:checked~label.sk-toggleable__label {background-color: #d4ebff;}#sk-container-id-1 input.sk-hidden--visually {border: 0;clip: rect(1px 1px 1px 1px);clip: rect(1px, 1px, 1px, 1px);height: 1px;margin: -1px;overflow: hidden;padding: 0;position: absolute;width: 1px;}#sk-container-id-1 div.sk-estimator {font-family: monospace;background-color: #f0f8ff;border: 1px dotted black;border-radius: 0.25em;box-sizing: border-box;margin-bottom: 0.5em;}#sk-container-id-1 div.sk-estimator:hover {background-color: #d4ebff;}#sk-container-id-1 div.sk-parallel-item::after {content: \"\";width: 100%;border-bottom: 1px solid gray;flex-grow: 1;}#sk-container-id-1 div.sk-label:hover label.sk-toggleable__label {background-color: #d4ebff;}#sk-container-id-1 div.sk-serial::before {content: \"\";position: absolute;border-left: 1px solid gray;box-sizing: border-box;top: 0;bottom: 0;left: 50%;z-index: 0;}#sk-container-id-1 div.sk-serial {display: flex;flex-direction: column;align-items: center;background-color: white;padding-right: 0.2em;padding-left: 0.2em;position: relative;}#sk-container-id-1 div.sk-item {position: relative;z-index: 1;}#sk-container-id-1 div.sk-parallel {display: flex;align-items: stretch;justify-content: center;background-color: white;position: relative;}#sk-container-id-1 div.sk-item::before, #sk-container-id-1 div.sk-parallel-item::before {content: \"\";position: absolute;border-left: 1px solid gray;box-sizing: border-box;top: 0;bottom: 0;left: 50%;z-index: -1;}#sk-container-id-1 div.sk-parallel-item {display: flex;flex-direction: column;z-index: 1;position: relative;background-color: white;}#sk-container-id-1 div.sk-parallel-item:first-child::after {align-self: flex-end;width: 50%;}#sk-container-id-1 div.sk-parallel-item:last-child::after {align-self: flex-start;width: 50%;}#sk-container-id-1 div.sk-parallel-item:only-child::after {width: 0;}#sk-container-id-1 div.sk-dashed-wrapped {border: 1px dashed gray;margin: 0 0.4em 0.5em 0.4em;box-sizing: border-box;padding-bottom: 0.4em;background-color: white;}#sk-container-id-1 div.sk-label label {font-family: monospace;font-weight: bold;display: inline-block;line-height: 1.2em;}#sk-container-id-1 div.sk-label-container {text-align: center;}#sk-container-id-1 div.sk-container {/* jupyter's `normalize.less` sets `[hidden] { display: none; }` but bootstrap.min.css set `[hidden] { display: none !important; }` so we also need the `!important` here to be able to override the default hidden behavior on the sphinx rendered scikit-learn.org. See: https://github.com/scikit-learn/scikit-learn/issues/21755 */display: inline-block !important;position: relative;}#sk-container-id-1 div.sk-text-repr-fallback {display: none;}</style><div id=\"sk-container-id-1\" class=\"sk-top-container\"><div class=\"sk-text-repr-fallback\"><pre>GradientBoostingClassifier()</pre><b>In a Jupyter environment, please rerun this cell to show the HTML representation or trust the notebook. <br />On GitHub, the HTML representation is unable to render, please try loading this page with nbviewer.org.</b></div><div class=\"sk-container\" hidden><div class=\"sk-item\"><div class=\"sk-estimator sk-toggleable\"><input class=\"sk-toggleable__control sk-hidden--visually\" id=\"sk-estimator-id-1\" type=\"checkbox\" checked><label for=\"sk-estimator-id-1\" class=\"sk-toggleable__label sk-toggleable__label-arrow\">GradientBoostingClassifier</label><div class=\"sk-toggleable__content\"><pre>GradientBoostingClassifier()</pre></div></div></div></div></div>"
      ],
      "text/plain": [
       "GradientBoostingClassifier()"
      ]
     },
     "execution_count": 68,
     "metadata": {},
     "output_type": "execute_result"
    }
   ],
   "source": [
    "model_gb.fit(X_train, y_train)"
   ]
  },
  {
   "cell_type": "code",
   "execution_count": 70,
   "id": "1fabce46-ed66-49e6-b191-6f4470688598",
   "metadata": {},
   "outputs": [],
   "source": [
    "y_pred_gb = model_gb.predict(X_test)\n",
    "accuracy_gb = accuracy_score(y_test, y_pred_gb)\n",
    "f1_gb = f1_score(y_test, y_pred_gb, average='macro')\n",
    "precision_gb = precision_score(y_test, y_pred_gb, average='macro')\n",
    "recall_gb = recall_score(y_test, y_pred_gb, average='macro')"
   ]
  },
  {
   "cell_type": "code",
   "execution_count": 73,
   "id": "2cb512f5-2432-4c7e-bc57-f145c4e57579",
   "metadata": {},
   "outputs": [
    {
     "name": "stdout",
     "output_type": "stream",
     "text": [
      "Gradient Boosting - Accuracy:  82.99086757990868\n",
      "\n",
      "F1 Score:  0.8522318899753094\n",
      "\n",
      "Precision:  0.9238487830789613\n",
      "\n",
      "Recall:  0.8093555944114235\n"
     ]
    }
   ],
   "source": [
    "print(\"Gradient Boosting - Accuracy: \",accuracy_gb*100)\n",
    "print(\"\\nF1 Score: \",f1_gb)\n",
    "print(\"\\nPrecision: \",precision_gb)\n",
    "print(\"\\nRecall: \",recall_gb)"
   ]
  },
  {
   "cell_type": "code",
   "execution_count": 75,
   "id": "38355c88-1fb7-4080-a514-1a8fb527174f",
   "metadata": {},
   "outputs": [],
   "source": [
    "from xgboost import XGBClassifier\n",
    "model_xgb = XGBClassifier()\n",
    "model_xgb.fit(X_train, y_train)\n",
    "y_pred_xgb = model_xgb.predict(X_test)"
   ]
  },
  {
   "cell_type": "code",
   "execution_count": 76,
   "id": "ad239738-c52e-4c0e-ba06-89a234ec9474",
   "metadata": {},
   "outputs": [],
   "source": [
    "accuracy_xgb = accuracy_score(y_test, y_pred_xgb)\n",
    "f1_xgb = f1_score(y_test, y_pred_xgb, average='macro')\n",
    "precision_xgb = precision_score(y_test, y_pred_xgb, average='macro')\n",
    "recall_xgb = recall_score(y_test, y_pred_xgb, average='macro')"
   ]
  },
  {
   "cell_type": "code",
   "execution_count": 77,
   "id": "d76f48c4-4ab1-4f92-ae15-b835703fd8a1",
   "metadata": {},
   "outputs": [
    {
     "name": "stdout",
     "output_type": "stream",
     "text": [
      "XGBoost - Accuracy:  89.84018264840182\n",
      "\n",
      "F1 Score:  0.9068048768754146\n",
      "\n",
      "Precision:  0.9462244588109332\n",
      "\n",
      "Recall:  0.8775313077004114\n"
     ]
    }
   ],
   "source": [
    "print(\"XGBoost - Accuracy: \",accuracy_xgb*100)\n",
    "print(\"\\nF1 Score: \",f1_xgb)\n",
    "print(\"\\nPrecision: \",precision_xgb)\n",
    "print(\"\\nRecall: \",recall_xgb)"
   ]
  },
  {
   "cell_type": "code",
   "execution_count": 78,
   "id": "886c8047-f606-4863-8803-a7646c4fad07",
   "metadata": {},
   "outputs": [],
   "source": [
    "from sklearn.ensemble import BaggingClassifier"
   ]
  },
  {
   "cell_type": "code",
   "execution_count": 79,
   "id": "25e24d44-1b8c-454a-981c-cced8bc056ed",
   "metadata": {},
   "outputs": [],
   "source": [
    "model_bag = BaggingClassifier()\n",
    "model_bag.fit(X_train, y_train)\n",
    "y_pred_bag = model_bag.predict(X_test)"
   ]
  },
  {
   "cell_type": "code",
   "execution_count": 80,
   "id": "0a5f4ca0-7f2a-4e36-92d7-aa0cadac94eb",
   "metadata": {},
   "outputs": [],
   "source": [
    "accuracy_bag = accuracy_score(y_test, y_pred_bag)\n",
    "f1_bag = f1_score(y_test, y_pred_bag, average='macro')\n",
    "precision_bag = precision_score(y_test, y_pred_bag, average='macro')\n",
    "recall_bag = recall_score(y_test, y_pred_bag, average='macro')"
   ]
  },
  {
   "cell_type": "code",
   "execution_count": 81,
   "id": "4361f350-b897-41a5-8a03-fe18e6308845",
   "metadata": {},
   "outputs": [
    {
     "name": "stdout",
     "output_type": "stream",
     "text": [
      "Bagging - Accuracy: 86.5296803652968\n",
      "\n",
      "F1 Score:  0.858444222665476\n",
      "\n",
      "Precision:  0.8762236035887719\n",
      "\n",
      "Recall:  0.8474768638463266\n"
     ]
    }
   ],
   "source": [
    "print(\"Bagging - Accuracy:\",accuracy_bag*100)\n",
    "print(\"\\nF1 Score: \",f1_bag)\n",
    "print(\"\\nPrecision: \",precision_bag)\n",
    "print(\"\\nRecall: \",recall_bag)"
   ]
  },
  {
   "cell_type": "code",
   "execution_count": null,
   "id": "a464cca8-e52b-4b49-b2f7-9136c1c5c05f",
   "metadata": {},
   "outputs": [],
   "source": []
  }
 ],
 "metadata": {
  "kernelspec": {
   "display_name": "Python 3 (ipykernel)",
   "language": "python",
   "name": "python3"
  },
  "language_info": {
   "codemirror_mode": {
    "name": "ipython",
    "version": 3
   },
   "file_extension": ".py",
   "mimetype": "text/x-python",
   "name": "python",
   "nbconvert_exporter": "python",
   "pygments_lexer": "ipython3",
   "version": "3.11.7"
  },
  "widgets": {
   "application/vnd.jupyter.widget-state+json": {
    "state": {},
    "version_major": 2,
    "version_minor": 0
   }
  }
 },
 "nbformat": 4,
 "nbformat_minor": 5
}
